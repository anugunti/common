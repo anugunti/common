{
 "cells": [
  {
   "cell_type": "code",
   "execution_count": null,
   "metadata": {},
   "outputs": [],
   "source": [
    "import os\n",
    "import sys"
   ]
  },
  {
   "cell_type": "code",
   "execution_count": null,
   "metadata": {},
   "outputs": [],
   "source": [
    "class readCFG:\n",
    "    def __init__(self, cfgPath):\n",
    "        self.cfgPath = cfgPath\n",
    "        self.currentPath = os.getcwd()\n",
    "    \n",
    "    def getIP(self):\n",
    "        with open(self.cfgPath, 'r') as inFile:\n",
    "            self.params = inFile.readlines()\n",
    "        inFile.close()\n",
    "        paramIDs = ['INPUT_PATH', 'FRAME_NUMBER']\n",
    "        paramVals = [\"\", \"\"]\n",
    "        for item in self.params:\n",
    "            item = item.rstrip(\"\\n\")\n",
    "            item = item.replace(\" \", \"\")\n",
    "            item = item.split(\"=\")\n",
    "            ind = para\n",
    "            mIDs.index(item[0])\n",
    "            paramVals[ind] = item[1]\n",
    "        \n",
    "        self.INPUT_PATH = os.path.abspath(paramVals[0])\n",
    "        self.FRAME_NUMBER = paramVals[1]\n",
    "        self.FRAME_NUMBER = self.FRAME_NUMBER.split(\",\")\n",
    "        \n",
    "        if os.path.isfile(self.INPUT_PATH):\n",
    "            if not self.INPUT_PATH.endswith(\".mp4\"):\n",
    "                print(\"Input path is not an mp4 file. Please check the config file\")\n",
    "                sys.exit()\n",
    "        elif not os.path.isdir(self.INPUT_PATH):\n",
    "            print(\"Input Path does not exist! Please check the path in the config file\")\n",
    "            sys.exit(0)\n",
    "        elif os.path.isdir(self.INPUT_PATH):\n",
    "            self.files = os.listdir(self.INPUT_PATH)\n",
    "            if len(self.files) == 0:\n",
    "                print(\"Input Directory is empty!\")\n",
    "                sys.exit(0)\n",
    "        return self.INPUT_PATH, self.FRAME_NUMBER"
   ]
  }
 ],
 "metadata": {
  "kernelspec": {
   "display_name": "aeEnv",
   "language": "python",
   "name": "aeenv"
  },
  "language_info": {
   "codemirror_mode": {
    "name": "ipython",
    "version": 3
   },
   "file_extension": ".py",
   "mimetype": "text/x-python",
   "name": "python",
   "nbconvert_exporter": "python",
   "pygments_lexer": "ipython3",
   "version": "3.8.3"
  }
 },
 "nbformat": 4,
 "nbformat_minor": 4
}
